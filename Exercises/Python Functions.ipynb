{
 "cells": [
  {
   "cell_type": "markdown",
   "metadata": {},
   "source": [
    "https://www.geeksforgeeks.org/python-programming-examples/#list"
   ]
  },
  {
   "cell_type": "code",
   "execution_count": 86,
   "metadata": {},
   "outputs": [
    {
     "name": "stdout",
     "output_type": "stream",
     "text": [
      "[7, 2, 3, 4, 5, 6, 1]\n"
     ]
    }
   ],
   "source": [
    "#Python program to interchange first and last elements in a list\n",
    "\n",
    "def interchange(inputlist):\n",
    "    x = inputlist[0]\n",
    "    y = inputlist[len(inputlist)-1]\n",
    "    inputlist[0] = y\n",
    "    inputlist[len(inputlist)-1] = x\n",
    "    return inputlist\n",
    "\n",
    "list1 = [1,2,3,4,5,6,7]\n",
    "reversed_list = interchange(list1)\n",
    "print(reversed_list)"
   ]
  },
  {
   "cell_type": "code",
   "execution_count": 76,
   "metadata": {},
   "outputs": [],
   "source": [
    "#Python program to swap two elements in a list\n",
    "#Given a list in Python and provided the positions of the elements, write a program to swap the two elements in the list.\n",
    "\n",
    "def swapPosition(inputList,pos1,pos2):\n",
    "    inputList[pos1],inputList[pos2] = inputList[pos2],inputList[pos1]\n",
    "    return inputList"
   ]
  },
  {
   "cell_type": "code",
   "execution_count": 79,
   "metadata": {},
   "outputs": [
    {
     "name": "stdout",
     "output_type": "stream",
     "text": [
      "[1, 2, 4, 3, 5, 6, 7, 8]\n"
     ]
    }
   ],
   "source": [
    "list1 = [1,2,3,4,5,6,7,8]\n",
    "list2 = swapPosition(list1,2,3)\n",
    "print(list2)"
   ]
  },
  {
   "cell_type": "code",
   "execution_count": 80,
   "metadata": {},
   "outputs": [],
   "source": [
    "#Python program to remove Nth occurrence of the given word"
   ]
  },
  {
   "cell_type": "markdown",
   "metadata": {},
   "source": [
    "Input: list - [\"geeks\", \"for\", \"geeks\"]\n",
    "       word = geeks, N = 2\n",
    "Output: list - [\"geeks\", \"for\"]\n",
    "\n",
    "Input: list - [\"can\", \"you\",  \"can\", \"a\", \"can\" \"?\"]\n",
    "       word = can, N = 1\n",
    "Output: list - [\"you\",  \"can\", \"a\", \"can\" \"?\"]"
   ]
  },
  {
   "cell_type": "code",
   "execution_count": 85,
   "metadata": {},
   "outputs": [
    {
     "name": "stdout",
     "output_type": "stream",
     "text": [
      "Updated list is:  ['geeks', 'for']\n"
     ]
    }
   ],
   "source": [
    "def RemoveIthWord(list,word,N):\n",
    "    count = 0\n",
    "    for i in range(0,len(list)):\n",
    "        if (list[i] == word):\n",
    "            count = count+1\n",
    "            if (count == N):\n",
    "                del(list[i])\n",
    "                return True\n",
    "    return False\n",
    "\n",
    "list = ['geeks', 'for', 'geeks'] \n",
    "word = 'geeks'\n",
    "N = 2\n",
    "  \n",
    "flag = RemoveIthWord(list, word, N) \n",
    "  \n",
    "if (flag == True): \n",
    "    print(\"Updated list is: \", list) \n",
    "else: \n",
    "    print(\"Item not Updated\")  "
   ]
  },
  {
   "cell_type": "code",
   "execution_count": 87,
   "metadata": {},
   "outputs": [],
   "source": [
    "#Different ways to clear a list in Python\n",
    "\n",
    "#by clear method\n"
   ]
  },
  {
   "cell_type": "code",
   "execution_count": 88,
   "metadata": {},
   "outputs": [
    {
     "name": "stdout",
     "output_type": "stream",
     "text": [
      "[15, 14, 13, 12, 11, 10]\n"
     ]
    }
   ],
   "source": [
    "#Reversing a List\n",
    "#Method 1: Using the reversed() built-in function.\n",
    "def Reverse(lst): \n",
    "    return [ele for ele in reversed(lst)] \n",
    "lst = [10, 11, 12, 13, 14, 15] \n",
    "print(Reverse(lst)) "
   ]
  },
  {
   "cell_type": "code",
   "execution_count": 90,
   "metadata": {},
   "outputs": [
    {
     "name": "stdout",
     "output_type": "stream",
     "text": [
      "[15, 14, 13, 12, 11, 10]\n"
     ]
    }
   ],
   "source": [
    "#Method 2: Using the reverse() built-in function.\n",
    "def Reverse(lst): \n",
    "    lst.reverse() \n",
    "    return lst \n",
    "      \n",
    "lst = [10, 11, 12, 13, 14, 15] \n",
    "print(Reverse(lst)) "
   ]
  },
  {
   "cell_type": "code",
   "execution_count": 91,
   "metadata": {},
   "outputs": [
    {
     "name": "stdout",
     "output_type": "stream",
     "text": [
      "[15, 14, 13, 12, 11, 10]\n"
     ]
    }
   ],
   "source": [
    "#Method 3: Using the slicing technique.\n",
    "def Reverse(lst): \n",
    "    new_lst = lst[::-1] \n",
    "    return new_lst \n",
    "      \n",
    "lst = [10, 11, 12, 13, 14, 15] \n",
    "print(Reverse(lst))"
   ]
  },
  {
   "cell_type": "code",
   "execution_count": 115,
   "metadata": {},
   "outputs": [
    {
     "data": {
      "text/plain": [
       "[6, 5, 4, 3, 2, 1]"
      ]
     },
     "execution_count": 115,
     "metadata": {},
     "output_type": "execute_result"
    }
   ],
   "source": [
    "#using other method\n",
    "\n",
    "list1 = [1,2,3,4,5,6]\n",
    "size = len(list1)-1\n",
    "list2 =[]\n",
    "for i in range(size,-1,-1):  # Reverse Range\n",
    "    list2.append(list1[i])\n",
    "list2"
   ]
  },
  {
   "cell_type": "code",
   "execution_count": 116,
   "metadata": {},
   "outputs": [],
   "source": [
    "#Cloning or Copying a list"
   ]
  },
  {
   "cell_type": "markdown",
   "metadata": {},
   "source": [
    "https://www.geeksforgeeks.org/python-cloning-copying-list/"
   ]
  },
  {
   "cell_type": "code",
   "execution_count": 117,
   "metadata": {},
   "outputs": [
    {
     "data": {
      "text/plain": [
       "3"
      ]
     },
     "execution_count": 117,
     "metadata": {},
     "output_type": "execute_result"
    }
   ],
   "source": [
    "#Count occurrences of an element in a list\n",
    "def countx(lst,x):\n",
    "    count = 0\n",
    "    for elem in lst:\n",
    "        if (elem == x):\n",
    "            count = count+1\n",
    "    return count\n",
    "lst = [1,2,3,4,5,4,6,4]\n",
    "countx(lst,4)"
   ]
  },
  {
   "cell_type": "code",
   "execution_count": 118,
   "metadata": {},
   "outputs": [],
   "source": [
    "#Multiply all numbers in the list "
   ]
  },
  {
   "cell_type": "markdown",
   "metadata": {},
   "source": [
    "https://www.geeksforgeeks.org/python-multiply-numbers-list-3-different-ways/"
   ]
  },
  {
   "cell_type": "code",
   "execution_count": null,
   "metadata": {},
   "outputs": [],
   "source": []
  }
 ],
 "metadata": {
  "kernelspec": {
   "display_name": "Python 3",
   "language": "python",
   "name": "python3"
  },
  "language_info": {
   "codemirror_mode": {
    "name": "ipython",
    "version": 3
   },
   "file_extension": ".py",
   "mimetype": "text/x-python",
   "name": "python",
   "nbconvert_exporter": "python",
   "pygments_lexer": "ipython3",
   "version": "3.7.3"
  }
 },
 "nbformat": 4,
 "nbformat_minor": 2
}
